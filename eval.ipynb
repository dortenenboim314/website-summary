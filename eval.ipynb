{
 "cells": [
  {
   "cell_type": "code",
   "execution_count": 1,
   "id": "83626742",
   "metadata": {},
   "outputs": [],
   "source": [
    "import pandas as pd"
   ]
  },
  {
   "cell_type": "code",
   "execution_count": 3,
   "id": "550a171c",
   "metadata": {},
   "outputs": [],
   "source": [
    "train = pd.read_csv('dataset/train_val.csv')"
   ]
  },
  {
   "cell_type": "code",
   "execution_count": 4,
   "id": "d1d8df7b",
   "metadata": {},
   "outputs": [
    {
     "data": {
      "text/html": [
       "<div>\n",
       "<style scoped>\n",
       "    .dataframe tbody tr th:only-of-type {\n",
       "        vertical-align: middle;\n",
       "    }\n",
       "\n",
       "    .dataframe tbody tr th {\n",
       "        vertical-align: top;\n",
       "    }\n",
       "\n",
       "    .dataframe thead th {\n",
       "        text-align: right;\n",
       "    }\n",
       "</style>\n",
       "<table border=\"1\" class=\"dataframe\">\n",
       "  <thead>\n",
       "    <tr style=\"text-align: right;\">\n",
       "      <th></th>\n",
       "      <th>markdown</th>\n",
       "      <th>language</th>\n",
       "      <th>url</th>\n",
       "      <th>type</th>\n",
       "      <th>source</th>\n",
       "      <th>domain</th>\n",
       "      <th>title</th>\n",
       "      <th>word_count</th>\n",
       "      <th>content_length</th>\n",
       "      <th>category</th>\n",
       "      <th>split</th>\n",
       "    </tr>\n",
       "  </thead>\n",
       "  <tbody>\n",
       "    <tr>\n",
       "      <th>0</th>\n",
       "      <td>![](/static/images/icons/wikipedia.png)\\n![Wik...</td>\n",
       "      <td>english</td>\n",
       "      <td>https://en.wikipedia.org/wiki/Renewable_energy</td>\n",
       "      <td>wiki</td>\n",
       "      <td>wikipedia</td>\n",
       "      <td>wikipedia.org</td>\n",
       "      <td>Renewable_energy</td>\n",
       "      <td>16319</td>\n",
       "      <td>173030</td>\n",
       "      <td>energy_environment</td>\n",
       "      <td>train</td>\n",
       "    </tr>\n",
       "    <tr>\n",
       "      <th>1</th>\n",
       "      <td>![](https://en.wikipedia.org/static/images/don...</td>\n",
       "      <td>english</td>\n",
       "      <td>https://en.wikipedia.org/wiki/Inorganic_chemistry</td>\n",
       "      <td>wiki</td>\n",
       "      <td>wikipedia</td>\n",
       "      <td>wikipedia.org</td>\n",
       "      <td>Inorganic_chemistry</td>\n",
       "      <td>2735</td>\n",
       "      <td>26061</td>\n",
       "      <td>physics_chemistry</td>\n",
       "      <td>train</td>\n",
       "    </tr>\n",
       "    <tr>\n",
       "      <th>2</th>\n",
       "      <td>![](/static/images/icons/wikipedia.png)\\n![Wik...</td>\n",
       "      <td>english</td>\n",
       "      <td>https://en.wikipedia.org/wiki/Augmented_reality</td>\n",
       "      <td>wiki</td>\n",
       "      <td>wikipedia</td>\n",
       "      <td>wikipedia.org</td>\n",
       "      <td>Augmented_reality</td>\n",
       "      <td>11293</td>\n",
       "      <td>100434</td>\n",
       "      <td>tech_science</td>\n",
       "      <td>train</td>\n",
       "    </tr>\n",
       "    <tr>\n",
       "      <th>3</th>\n",
       "      <td>![](https://en.wikipedia.org/static/images/don...</td>\n",
       "      <td>german</td>\n",
       "      <td>https://de.wikipedia.org/wiki/Sun</td>\n",
       "      <td>wiki</td>\n",
       "      <td>wikipedia</td>\n",
       "      <td>wikipedia.org</td>\n",
       "      <td>Sun</td>\n",
       "      <td>64</td>\n",
       "      <td>1105</td>\n",
       "      <td>space_astronomy</td>\n",
       "      <td>train</td>\n",
       "    </tr>\n",
       "    <tr>\n",
       "      <th>4</th>\n",
       "      <td>![](/static/images/icons/wikipedia.png)\\n![ويك...</td>\n",
       "      <td>arabic</td>\n",
       "      <td>https://ar.wikipedia.org/wiki/Nuclear_power</td>\n",
       "      <td>wiki</td>\n",
       "      <td>wikipedia</td>\n",
       "      <td>wikipedia.org</td>\n",
       "      <td>Nuclear_power</td>\n",
       "      <td>6437</td>\n",
       "      <td>100283</td>\n",
       "      <td>energy_environment</td>\n",
       "      <td>train</td>\n",
       "    </tr>\n",
       "  </tbody>\n",
       "</table>\n",
       "</div>"
      ],
      "text/plain": [
       "                                            markdown language  \\\n",
       "0  ![](/static/images/icons/wikipedia.png)\\n![Wik...  english   \n",
       "1  ![](https://en.wikipedia.org/static/images/don...  english   \n",
       "2  ![](/static/images/icons/wikipedia.png)\\n![Wik...  english   \n",
       "3  ![](https://en.wikipedia.org/static/images/don...   german   \n",
       "4  ![](/static/images/icons/wikipedia.png)\\n![ويك...   arabic   \n",
       "\n",
       "                                                 url  type     source  \\\n",
       "0     https://en.wikipedia.org/wiki/Renewable_energy  wiki  wikipedia   \n",
       "1  https://en.wikipedia.org/wiki/Inorganic_chemistry  wiki  wikipedia   \n",
       "2    https://en.wikipedia.org/wiki/Augmented_reality  wiki  wikipedia   \n",
       "3                  https://de.wikipedia.org/wiki/Sun  wiki  wikipedia   \n",
       "4        https://ar.wikipedia.org/wiki/Nuclear_power  wiki  wikipedia   \n",
       "\n",
       "          domain                title  word_count  content_length  \\\n",
       "0  wikipedia.org     Renewable_energy       16319          173030   \n",
       "1  wikipedia.org  Inorganic_chemistry        2735           26061   \n",
       "2  wikipedia.org    Augmented_reality       11293          100434   \n",
       "3  wikipedia.org                  Sun          64            1105   \n",
       "4  wikipedia.org        Nuclear_power        6437          100283   \n",
       "\n",
       "             category  split  \n",
       "0  energy_environment  train  \n",
       "1   physics_chemistry  train  \n",
       "2        tech_science  train  \n",
       "3     space_astronomy  train  \n",
       "4  energy_environment  train  "
      ]
     },
     "execution_count": 4,
     "metadata": {},
     "output_type": "execute_result"
    }
   ],
   "source": [
    "train.head()"
   ]
  },
  {
   "cell_type": "code",
   "execution_count": 6,
   "id": "122d4c2d",
   "metadata": {},
   "outputs": [
    {
     "data": {
      "text/plain": [
       "array(['english', 'german', 'arabic', 'chinese', 'spanish', 'french'],\n",
       "      dtype=object)"
      ]
     },
     "execution_count": 6,
     "metadata": {},
     "output_type": "execute_result"
    }
   ],
   "source": [
    "train['language'].unique()"
   ]
  }
 ],
 "metadata": {
  "kernelspec": {
   "display_name": ".venv",
   "language": "python",
   "name": "python3"
  },
  "language_info": {
   "codemirror_mode": {
    "name": "ipython",
    "version": 3
   },
   "file_extension": ".py",
   "mimetype": "text/x-python",
   "name": "python",
   "nbconvert_exporter": "python",
   "pygments_lexer": "ipython3",
   "version": "3.12.1"
  }
 },
 "nbformat": 4,
 "nbformat_minor": 5
}
