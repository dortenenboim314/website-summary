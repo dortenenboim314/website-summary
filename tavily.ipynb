{
 "cells": [
  {
   "cell_type": "code",
   "execution_count": 3,
   "id": "049e2f77",
   "metadata": {},
   "outputs": [],
   "source": [
    "from tavily import TavilyClient"
   ]
  },
  {
   "cell_type": "code",
   "execution_count": null,
   "id": "43cd0974",
   "metadata": {},
   "outputs": [],
   "source": []
  },
  {
   "cell_type": "code",
   "execution_count": null,
   "id": "179ce797",
   "metadata": {},
   "outputs": [],
   "source": []
  },
  {
   "cell_type": "code",
   "execution_count": 30,
   "id": "b18b9c04",
   "metadata": {},
   "outputs": [
    {
     "name": "stdout",
     "output_type": "stream",
     "text": [
      "URL: https://baike.baidu.com/item/人工智能/9180\n",
      "Raw Content: 人工智能（智能科学与技术专业术语）\\_百度百科\n",
      "===============\n",
      " \n",
      "\n",
      "[网页](https://www.baidu.com/s?ie=utf-8&fr=bks0000&wd=%E4%B...\n",
      "URL: https://ai.baidu.com/\n",
      "Raw Content: ![](https://ai.bdstatic.com/file/03D0F32FE36C4E3A893D1AD60E797F5B)\n",
      "![](https://ai.bdstatic.com/file/...\n"
     ]
    }
   ],
   "source": [
    "client = TavilyClient()\n",
    "\n",
    "response = client.search(query=\"人工智能\", \n",
    "                         include_raw_content=\"markdown\",\n",
    "                         include_domains=[\"baidu.com\"])\n",
    "for result in response['results']:\n",
    "    url = result[\"url\"]\n",
    "    raw_content = result[\"raw_content\"]\n",
    "    \n",
    "    # if raw_content is None, skip this result. it can happen.\n",
    "    if raw_content is None:\n",
    "        continue\n",
    "    \n",
    "    print(f\"URL: {url}\")\n",
    "    print(f\"Raw Content: {raw_content[:100]}...\")  "
   ]
  }
 ],
 "metadata": {
  "kernelspec": {
   "display_name": ".venv",
   "language": "python",
   "name": "python3"
  },
  "language_info": {
   "codemirror_mode": {
    "name": "ipython",
    "version": 3
   },
   "file_extension": ".py",
   "mimetype": "text/x-python",
   "name": "python",
   "nbconvert_exporter": "python",
   "pygments_lexer": "ipython3",
   "version": "3.12.1"
  }
 },
 "nbformat": 4,
 "nbformat_minor": 5
}
