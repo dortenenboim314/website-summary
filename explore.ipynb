{
 "cells": [
  {
   "cell_type": "code",
   "execution_count": 1,
   "id": "d166162e",
   "metadata": {},
   "outputs": [
    {
     "name": "stdout",
     "output_type": "stream",
     "text": [
      "c:\\repos\\search-summaries\\.venv\\Lib\\site-packages\n"
     ]
    }
   ],
   "source": [
    "import pandas as pd\n",
    "import spacy, pytextrank\n",
    "from summarizers.light import FastSummarizer"
   ]
  },
  {
   "cell_type": "code",
   "execution_count": 2,
   "id": "5026f9e2",
   "metadata": {},
   "outputs": [],
   "source": [
    "# read the CSV file\n",
    "df = pd.read_csv('unified_dataset.csv')"
   ]
  },
  {
   "cell_type": "code",
   "execution_count": 3,
   "id": "e2808aa0",
   "metadata": {},
   "outputs": [
    {
     "name": "stdout",
     "output_type": "stream",
     "text": [
      "Columns in the dataset:\n",
      "['url', 'text', 'language', 'domain', 'source', 'length', 'word_count']\n",
      "dataset shape: (202, 7)\n",
      "domain unique values:\n",
      "['www.reuters.com', 'www.bbc.com', 'www.npr.org', 'apnews.com', 'www.cnn.com', 'app.reuters.com', 'github.com', 'www.reddit.com', 'medium.com', 'jinlow.medium.com', 'saannjaay.medium.com', 'dev.to', 'towardsdatascience.com', 'addyo.substack.com', 'umairkhan62.medium.com', 'philipilani.substack.com', 'monovm.substack.com', 'elpais.com', 'www.elmundo.es', 'www.clarin.com', 'www.eluniversal.com.mx', 'ecab-estadistica.medium.com', 'www.lemonde.fr', 'www.lefigaro.fr', 'journal.liberation.fr', 'www.spiegel.de', 'www.zeit.de', 'www.sueddeutsche.de', 'www.faz.net', 'www.xinhuanet.com', 'finance.sina.com.cn', 'www3.xinhuanet.com', 'www.aljazeera.com', 'www.alarabiya.net']\n",
      "unieque languages:\n",
      "['english', 'spanish', 'french', 'german', 'chinese', 'arabic']\n",
      "Number of rows with text length < 10K: 202\n"
     ]
    }
   ],
   "source": [
    "print(\"Columns in the dataset:\")\n",
    "print(df.columns.tolist())\n",
    "print(f\"dataset shape: {df.shape}\")\n",
    "print('domain unique values:')\n",
    "print(df['domain'].unique().tolist())\n",
    "\n",
    "print(\"unieque languages:\")\n",
    "print(df['language'].unique().tolist())\n",
    "\n",
    "#count number of rows which their length is less than 10K\n",
    "print(f\"Number of rows with text length < 10K: {len(df['length'] < 10000)}\")"
   ]
  },
  {
   "cell_type": "code",
   "execution_count": 4,
   "id": "4c20dd19",
   "metadata": {},
   "outputs": [
    {
     "data": {
      "text/plain": [
       "<Axes: >"
      ]
     },
     "execution_count": 4,
     "metadata": {},
     "output_type": "execute_result"
    },
    {
     "data": {
      "image/png": "[encoded data removed]",
      "text/plain": [
       "<Figure size 640x480 with 1 Axes>"
      ]
     },
     "metadata": {},
     "output_type": "display_data"
    }
   ],
   "source": [
    "# hist of length column\n",
    "df['length'].hist(bins=50)"
   ]
  },
  {
   "cell_type": "code",
   "execution_count": 5,
   "id": "9bf790eb",
   "metadata": {},
   "outputs": [
    {
     "name": "stdout",
     "output_type": "stream",
     "text": [
      "Documents with length between 4000 and 6000:\n"
     ]
    }
   ],
   "source": [
    "# print some values of documents that their length is more than 4000 but less than 6000\n",
    "print(\"Documents with length between 4000 and 6000:\")\n",
    "short = df[(df['length'] > 4000) & (df['length'] < 6000)].head(10)\n",
    "\n",
    "# long is between 20K and 50K\n",
    "long = df[(df['length'] > 20000) & (df['length'] < 50000)].head(10)"
   ]
  },
  {
   "cell_type": "code",
   "execution_count": 6,
   "id": "ab81e594",
   "metadata": {},
   "outputs": [
    {
     "name": "stdout",
     "output_type": "stream",
     "text": [
      "Energy\n",
      "Biden administration announces nearly $11B for renewable energy in rural communities\n",
      "By\n",
      "The Associated Press\n",
      "\n",
      "Corn is planted with a view of wind turbines on April 2, in Lake Benton, Minn. The U.S. Department of Agriculture announced a nearly $11 billion investment on Tuesday to help bring affordable clean energy to rural communities throughout the country.\n",
      "Jessie Wardarski/AP\n",
      "hide caption\n",
      "\n",
      "Corn is planted with a view of wind turbines on April 2, in Lake Benton, Minn. The U.S. Department of Agriculture announced a nearly $11 billion investment on Tuesday to help bring affordable clean energy to rural communities throughout the country.\n",
      "The U.S. Department of Agriculture announced a nearly $11 billion investment on Tuesday to help bring affordable clean energy to rural communities throughout the country.\n",
      "Rural electric cooperatives, renewable energy companies and electric utilities will be able to apply for funding through two programs, U.S. Department of Agriculture Secretary Tom Vilsack said during a media briefing on Monday.\n",
      "Vilsack said it was the largest single federal investment in rural electrification since President Franklin D. Roosevelt signed the Rural Electrification Act in 1936 as part of the New Deal.\n",
      "\"This is an exciting opportunity for the Rural Utility Service to work collaboratively with our great partners, the Rural Electric cooperatives, in order to advance a clean energy future for rural America,\" Vilsack said. \"So this is an exciting and an historic day, and it continues an ongoing effort to ensure that rural America is a full participant in this clean energy economy.\"\n",
      "\n",
      "Climate\n",
      "An activist group is spreading misinformation to stop solar projects in rural America\n",
      "The Empowering Rural America program will make $9.7 billion available for rural electric cooperatives to create renewable energy, zero-emission and carbon capture systems.\n",
      "Jim Matheson, CEO of the National Rural Electric Cooperative Association, praised the administration for the investment.\n",
      "\"This is an exciting and transformative opportunity for co-ops and their local communities, particularly as we look toward a future that depends on electricity to power more of the economy,\" Matheson said. \"USDA has smartly structured this program in a way that will help electric co-ops leverage new tools to reduce costs and keep energy affordable while meeting the future energy needs of their rural communities.\"\n",
      "The Powering Affordable Clean Energy program will make $1 billion available in partially-forgivable loans for renewable energy companies and electric utilities to help finance renewable energy projects such as large-scale solar, wind and geothermal projects.\n",
      "The Department of Agriculture said in a press release that the goal of this program is provide affordable clean energy to vulnerable, disadvantaged and Indigenous communities. But there is tension between building a clean energy infrastructure for all and mining the materials needed for that infrastructure.\n",
      "\n",
      "Short Wave\n",
      "Renewable energy is here. But how do we store it for the future?\n",
      "For example, conservationists and Indigenous communities in Nevada have sued to block the opening of the largest mine planned in the U.S. for extraction of lithium used in electric vehicle batteries.\n",
      "When asked about tribal concerns about mineral extraction at Monday's briefing, Vilsack said there would be a \"significant tribal consultation\" for mining projects on land his agency controls. But when pressed about what would happen if an Indigenous community said no to a mining project, he declined to answer the question, calling it hypothetical.\n",
      "Rural electric cooperatives can apply for grants, loans and loan modifications through the Empowering Rural America program between July 31 and Aug. 31. The application period for the Powering Affordable Clean Energy program is June 30 — Sept. 29.\n",
      "Experts told The Associated Press that these programs could have a significant impact for rural America. \"The ERA Program has the potential to help rural electric co-ops and municipal co-ops move the needle toward a cleaner, less carbon-intensive electricity mix,\" said Felix Mormann, a professor of law at Texas A&M University who specializes in energy law and policy.\n",
      "\n",
      "Energy\n",
      "Wind power gets a boost from government. But it faces challenges from landowners\n",
      "The programs will have relatively less impact on electricity growth in rural communities than the Rural Electrification Act during the New Deal, said Carl Kitchens, an associate professor of economics at Florida State University.\n",
      "\"When enacted in the 1930s, only 10 percent of farms had electric power; by 1950, it had risen to over 90 percent,\" Kitchens said. \"Today, electricity is nearly universal except for a few small pockets and portions of reservation land.\"\n",
      "Funding for the new programs comes from the Inflation Reduction Act, which has generated hundreds of billions of dollars for renewable energy transition and environmental cleanup. In February, the Biden administration announced details on how states and nonprofits could apply for $27 billion in funding from a \" green bank.\" The next month, officials announced $2 billion to create the Rural Energy for America Program.\n",
      "And since the beginning of the year, they've announced hundreds of millions of dollars for the renewable energy transition from climate-warming fossil fuels, environmental cleanup and climate mitigation in poor communities and communities of color.\n",
      "Read & Listen\n",
      "Connect\n",
      "About NPR\n",
      "Get Involved\n",
      "Sponsor Message\n",
      "Become an NPR sponsor\n"
     ]
    }
   ],
   "source": [
    "print(short.iloc[0]['text'])"
   ]
  },
  {
   "cell_type": "code",
   "execution_count": 7,
   "id": "20f7787f",
   "metadata": {},
   "outputs": [],
   "source": [
    "long_text = long.iloc[0]['text']"
   ]
  },
  {
   "cell_type": "code",
   "execution_count": 8,
   "id": "befb3130",
   "metadata": {},
   "outputs": [
    {
     "name": "stdout",
     "output_type": "stream",
     "text": [
      "Length of the text: 5551\n"
     ]
    }
   ],
   "source": [
    "short_text = short.iloc[0]['text']\n",
    "print(f\"Length of the text: {len(short_text)}\")"
   ]
  },
  {
   "cell_type": "code",
   "execution_count": null,
   "id": "6457190e",
   "metadata": {},
   "outputs": [],
   "source": []
  },
  {
   "cell_type": "code",
   "execution_count": 9,
   "id": "4c8934c2",
   "metadata": {},
   "outputs": [
    {
     "name": "stdout",
     "output_type": "stream",
     "text": [
      "Phrases: ['affordable clean energy', 'renewable energy projects', 'renewable energy']\n",
      "Summary: The U.S. Department of Agriculture announced a nearly $11 billion investment on Tuesday to help bring affordable clean energy to rural communities throughout the country.\n",
      "\n",
      "The U.S. Department of Agriculture announced a nearly $11 billion investment on Tuesday to help bring affordable clean energy to rural communities throughout the country.\n",
      "\n",
      "The U.S. Department of Agriculture announced a nearly $11 billion investment on Tuesday to help bring affordable clean energy to rural communities throughout the country.\n",
      "\n",
      "Energy\n",
      "Biden administration announces nearly $11B for renewable energy in rural communities\n",
      "By\n",
      "The Associated Press\n",
      "\n",
      "Corn is planted with a view of wind turbines on April 2, in Lake Benton, Minn.\n",
      "\"\n",
      "The Powering Affordable Clean Energy program will make $1 billion available in partially-forgivable loans for renewable energy companies and electric utilities to help finance renewable energy projects such as large-scale solar, wind and geothermal projects.\n",
      "\n"
     ]
    }
   ],
   "source": [
    "nlp = spacy.load(\"en_core_web_sm\")\n",
    "nlp.add_pipe(\"textrank\", last=True)\n",
    "doc = nlp(short_text)\n",
    "\n",
    "# Top K phrases\n",
    "PHRASES = 3\n",
    "print(\"Phrases:\", [p.text for p in doc._.phrases[:PHRASES]])\n",
    "\n",
    "LIMITED_PHRASES = 10\n",
    "LIMITED_SENTENCES = 5\n",
    "# Top K summary sentences\n",
    "summary = [sent.text for sent in doc._.textrank.summary(limit_phrases=LIMITED_PHRASES, limit_sentences=LIMITED_SENTENCES, level=\"sentence\")]\n",
    "print(\"Summary:\", \"\\n\".join(summary))"
   ]
  },
  {
   "cell_type": "code",
   "execution_count": 10,
   "id": "1701719c",
   "metadata": {},
   "outputs": [
    {
     "name": "stdout",
     "output_type": "stream",
     "text": [
      "Phrases for long text: ['y Tecnológico de la Franja', 'el desarrollo de la IA', 'arancelaria y de control de exportaciones', 'arancelaria y de control de exportaciones como', 'que desregula el desarrollo de IA y lanza']\n",
      "Summary sentence 1 for long text: La actual reconfiguración global —una globalización partida— se apoya tanto en el resurgir de la guerra política, arancelaria y de control de exportaciones como en políticas industriales enfocadas en la seguridad nacional: Estados Unidos y China destinan miles de millones en subsidios a semiconductores e IA, forzando a las empresas a reordenar sus cadenas de valor y reduciendo su interdependencia.\n",
      "Summary sentence 2 for long text: Presentan una supercomputadora cuántica \"20.000 veces más potente\" que las actuales: para qué sirve\n",
      "\n",
      " \n",
      "China impulsa la innovación global en la Segunda Conferencia de Intercambio Científico y Tecnológico de la Franja y la Ruta\n",
      "\n",
      " \n",
      "\"Es una ilusión\": un estudio de Apple pone el duda el mayor mito de la inteligencia artificial\n",
      "\n",
      "Te puede interesar\n",
      "\n",
      "Día del Padre 2025: por qué se celebra cada 15 de junio, origen y tradición\n",
      "\n",
      "Los videos y las fotos más impactantes del ataque de Irán sobre Tel Aviv\n",
      "\n",
      "Impuestos: el\n",
      "Summary sentence 3 for long text: La disputa global se ha intensificado en relación con los principios éticos que regirán el desarrollo de la IA.\n",
      "\n",
      "\n",
      "Summary sentence 4 for long text: ¿Qué disputa se ha convertido en una disputa global para definir los principios éticos que regirán el desarrollo de la IA?\n",
      "\n",
      "\n",
      "Summary sentence 5 for long text: La disputa se ha convertido en una disputa global para definir los principios éticos que regirán el desarrollo de la IA.\n",
      "\n",
      "\n"
     ]
    }
   ],
   "source": [
    "doc_long = nlp(long_text)\n",
    "\n",
    "# Top 5 phrases for long text\n",
    "print(\"Phrases for long text:\", [p.text for p in doc_long._.phrases[:5]])\n",
    "\n",
    "# Top 3 summary sentences for long text\n",
    "summary_long = [sent.text for sent in doc_long._.textrank.summary(limit_phrases=10, limit_sentences=5, level = \"sentence\")]\n",
    "\n",
    "\n",
    "for i, sent in enumerate(summary_long):\n",
    "    print(f\"Summary sentence {i+1} for long text:\", sent)"
   ]
  },
  {
   "cell_type": "code",
   "execution_count": 11,
   "id": "d38e0c84",
   "metadata": {},
   "outputs": [
    {
     "name": "stdout",
     "output_type": "stream",
     "text": [
      "Paragraph(start=0, end=34, para_id=0, distance=0.30676257192004747)\n"
     ]
    }
   ],
   "source": [
    "# 2. Process your document\n",
    "doc = nlp(short_text)\n",
    "\n",
    "# 3. Grab the pipeline component\n",
    "tr = doc._.textrank\n",
    "\n",
    "# 4. Compute sentence distances (use whatever limit_phrases you want)\n",
    "sent_dist = tr.calc_sent_dist(limit_phrases=10)   # returns List[Sentence] :contentReference[oaicite:0]{index=0}\n",
    "\n",
    "# 5. Now segment into paragraphs\n",
    "paragraphs = tr.segment_paragraphs(sent_dist)     # returns List[Paragraph] :contentReference[oaicite:1]{index=1}\n",
    "\n",
    "# 6. Inspect your Paragraph objects\n",
    "for para in paragraphs:\n",
    "    print(para)"
   ]
  },
  {
   "cell_type": "code",
   "execution_count": 12,
   "id": "ff4e7845",
   "metadata": {},
   "outputs": [],
   "source": [
    "fast_summarizer = FastSummarizer()"
   ]
  },
  {
   "cell_type": "code",
   "execution_count": 13,
   "id": "f0fb39a0",
   "metadata": {},
   "outputs": [],
   "source": [
    "long_summary = fast_summarizer.summarize(long_text)"
   ]
  },
  {
   "cell_type": "code",
   "execution_count": 14,
   "id": "1fc529ce",
   "metadata": {},
   "outputs": [
    {
     "data": {
      "text/plain": [
       "'Keywords : [y Tecnológico de la Franja, el desarrollo de la IA, arancelaria y de control de exportaciones]\\n- La actual reconfiguración global —una globalización partida— se apoya tanto en el resurgir de la guerra política, arancelaria y de control de exportaciones como en políticas industriales enfocadas en la seguridad nacional: Estados Unidos y China destinan miles de millones en subsidios a semiconductores e IA, forzando a las empresas a reordenar sus cadenas de valor y reduciendo su interdependencia.\\n- Presentan una supercomputadora cuántica \"20.000 veces más potente\" que las actuales: para qué sirve\\n\\n \\nChina impulsa la innovación global en la Segunda Conferencia de Intercambio Científico y Tecnológico de la Franja y la Ruta\\n\\n \\n\"Es una ilusión\": un estudio de Apple pone el duda el mayor mito de la inteligencia artificial\\n\\nTe puede interesar\\n\\nDía del Padre 2025: por qué se celebra cada 15 de junio, origen y tradición\\n\\nLos videos y las fotos más impactantes del ataque de Irán sobre Tel Aviv\\n\\nImpuestos: el\\n- La disputa global se ha intensificado en relación con los principios éticos que regirán el desarrollo de la IA.\\n\\n\\n- ¿Qué disputa se ha convertido en una disputa global para definir los principios éticos que regirán el desarrollo de la IA?\\n\\n\\n- La disputa se ha convertido en una disputa global para definir los principios éticos que regirán el desarrollo de la IA.\\n\\n\\n'"
      ]
     },
     "execution_count": 14,
     "metadata": {},
     "output_type": "execute_result"
    }
   ],
   "source": [
    "long_summary "
   ]
  }
 ],
 "metadata": {
  "kernelspec": {
   "display_name": ".venv",
   "language": "python",
   "name": "python3"
  },
  "language_info": {
   "codemirror_mode": {
    "name": "ipython",
    "version": 3
   },
   "file_extension": ".py",
   "mimetype": "text/x-python",
   "name": "python",
   "nbconvert_exporter": "python",
   "pygments_lexer": "ipython3",
   "version": "3.12.1"
  }
 },
 "nbformat": 4,
 "nbformat_minor": 5
}
