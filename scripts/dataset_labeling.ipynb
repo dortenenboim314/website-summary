{
 "cells": [
  {
   "cell_type": "code",
   "execution_count": 26,
   "id": "54b832c5",
   "metadata": {},
   "outputs": [],
   "source": [
    "# execute from parent directory\n",
    "import sys\n",
    "sys.path.append(\"..\")"
   ]
  },
  {
   "cell_type": "code",
   "execution_count": 27,
   "id": "99a1bc23",
   "metadata": {},
   "outputs": [],
   "source": [
    "import pandas as pd\n",
    "from summarizers.heavy import OpenAiSummarizer, ExtractiveOpenAiSummarizer\n",
    "from tqdm import tqdm"
   ]
  },
  {
   "cell_type": "code",
   "execution_count": 28,
   "id": "7d55311d",
   "metadata": {},
   "outputs": [
    {
     "name": "stdout",
     "output_type": "stream",
     "text": [
      "Number of rows in the dataset: 198\n"
     ]
    }
   ],
   "source": [
    "df = pd.read_csv(\"../dataset/cleaned_unified_dataset.csv\")\n",
    "print(\"Number of rows in the dataset:\", len(df))"
   ]
  },
  {
   "cell_type": "code",
   "execution_count": 29,
   "id": "5189b310",
   "metadata": {},
   "outputs": [
    {
     "data": {
      "text/plain": [
       "domain\n",
       "github.com                      23\n",
       "medium.com                      16\n",
       "www.bbc.com                     16\n",
       "www.xinhuanet.com               16\n",
       "simple.wikipedia.org            15\n",
       "en.wikipedia.org                12\n",
       "elpais.com                      11\n",
       "www.lemonde.fr                   8\n",
       "www.cnn.com                      8\n",
       "www.reuters.com                  7\n",
       "www.faz.net                      7\n",
       "www.npr.org                      6\n",
       "www.zeit.de                      4\n",
       "zh.wikipedia.org                 4\n",
       "www.clarin.com                   4\n",
       "www.spiegel.de                   4\n",
       "www.sueddeutsche.de              4\n",
       "dev.to                           3\n",
       "www.eluniversal.com.mx           3\n",
       "ar.wikipedia.org                 2\n",
       "fr.wikipedia.org                 2\n",
       "www.reddit.com                   2\n",
       "www.elmundo.es                   2\n",
       "finance.sina.com.cn              2\n",
       "www.aljazeera.com                2\n",
       "www.francetvinfo.fr              2\n",
       "kasata.medium.com                1\n",
       "jobs.theguardian.com             1\n",
       "edition.cnn.com                  1\n",
       "foundersfactory.substack.com     1\n",
       "towardsdatascience.com           1\n",
       "lokesh-prajapati.medium.com      1\n",
       "www.liberation.fr                1\n",
       "ecab-estadistica.medium.com      1\n",
       "cincodias.elpais.com             1\n",
       "www3.xinhuanet.com               1\n",
       "cmk.faz.net                      1\n",
       "blog.sina.com.cn                 1\n",
       "www.alarabiya.net                1\n",
       "Name: count, dtype: int64"
      ]
     },
     "execution_count": 29,
     "metadata": {},
     "output_type": "execute_result"
    }
   ],
   "source": [
    "df['domain'].value_counts()"
   ]
  },
  {
   "cell_type": "code",
   "execution_count": 30,
   "id": "5f1adbbb",
   "metadata": {},
   "outputs": [
    {
     "name": "stdout",
     "output_type": "stream",
     "text": [
      "OpenAI v4\n",
      "OpenAI Extractive v1\n"
     ]
    }
   ],
   "source": [
    "openai_summarizer = OpenAiSummarizer()\n",
    "openai_extractive_summarizer = ExtractiveOpenAiSummarizer()"
   ]
  },
  {
   "cell_type": "code",
   "execution_count": 31,
   "id": "c40f76a3",
   "metadata": {},
   "outputs": [
    {
     "data": {
      "text/plain": [
       "Index(['url', 'raw_markdown', 'language', 'domain', 'source', 'length',\n",
       "       'word_count', 'cleaned_markdown'],\n",
       "      dtype='object')"
      ]
     },
     "execution_count": 31,
     "metadata": {},
     "output_type": "execute_result"
    }
   ],
   "source": [
    "df.columns"
   ]
  },
  {
   "cell_type": "code",
   "execution_count": 33,
   "id": "19008fa9",
   "metadata": {},
   "outputs": [
    {
     "name": "stderr",
     "output_type": "stream",
     "text": [
      "Generating summaries: 100%|██████████| 198/198 [07:24<00:00,  2.25s/it]\n"
     ]
    }
   ],
   "source": [
    "tqdm.pandas(desc=\"Generating summaries\")\n",
    "df[\"summary_gt\"] = df.progress_apply(\n",
    "    lambda row: openai_summarizer.summarize(text=row[\"cleaned_markdown\"], lang=row[\"language\"]),\n",
    "    axis=1\n",
    ")"
   ]
  },
  {
   "cell_type": "code",
   "execution_count": 34,
   "id": "4c891b13",
   "metadata": {},
   "outputs": [
    {
     "name": "stderr",
     "output_type": "stream",
     "text": [
      "Generating summaries: 100%|██████████| 198/198 [05:57<00:00,  1.80s/it]\n"
     ]
    }
   ],
   "source": [
    "tqdm.pandas(desc=\"Generating summaries\")\n",
    "df[\"summary_gt_extractive\"] = df.progress_apply(\n",
    "    lambda row: openai_extractive_summarizer.summarize(text=row[\"cleaned_markdown\"], lang=row[\"language\"]),\n",
    "    axis=1\n",
    ")"
   ]
  },
  {
   "cell_type": "code",
   "execution_count": 36,
   "id": "c9cf0f80",
   "metadata": {},
   "outputs": [],
   "source": [
    "df.to_csv(\"../dataset/unified_dataset_labeled.csv\", index=False)"
   ]
  },
  {
   "cell_type": "code",
   "execution_count": 50,
   "id": "f044c6d7",
   "metadata": {},
   "outputs": [],
   "source": [
    "i=76"
   ]
  },
  {
   "cell_type": "code",
   "execution_count": 51,
   "id": "d718fbb2",
   "metadata": {},
   "outputs": [
    {
     "name": "stdout",
     "output_type": "stream",
     "text": [
      "## Navigation Menu\n",
      "\n",
      "# Search code, repositories, users, issues, pull requests...\n",
      "\n",
      "# Provide feedback\n",
      "\n",
      "We read every piece of feedback, and take your input very seriously.\n",
      "\n",
      "# Saved searches\n",
      "\n",
      "## Use saved searches to filter your results more quickly\n",
      "\n",
      "To see all available qualifiers, see our [documentation](https://docs.github.com/search-github/github-code-search/understanding-github-code-search-syntax).\n",
      "\n",
      "Scavix Software Web Development Framework\n",
      "\n",
      "### License\n",
      "\n",
      "### Licenses found\n",
      "\n",
      "### Uh oh!\n",
      "\n",
      "There was an error while loading. Please reload this page.\n",
      "\n",
      "There was an error while loading. Please reload this page.\n",
      "\n",
      "# ScavixSoftware/WebFramework\n",
      "\n",
      "## Folders and files\n",
      "\n",
      "| Name | | Name | Last commit message | Last commit date |\n",
      "| --- | --- | --- | --- | --- |\n",
      "| Latest commit   History[291 Commits](/ScavixSoftware/WebFramework/commits/master/) | | |\n",
      "| [netbeans/Scavix WebFramework/nbproject](/ScavixSoftware/WebFramework/tree/master/netbeans/Scavix%20WebFramework/nbproject \"This path skips through empty directories\") | | [netbeans/Scavix WebFramework/nbproject](/ScavixSoftware/WebFramework/tree/master/netbeans/Scavix%20WebFramework/nbproject \"This path skips through empty directories\") |  |  |\n",
      "| [tools](/ScavixSoftware/WebFramework/tree/master/tools \"tools\") | | [tools](/ScavixSoftware/WebFramework/tree/master/tools \"tools\") |  |  |\n",
      "| [web](/ScavixSoftware/WebFramework/tree/master/web \"web\") | | [web](/ScavixSoftware/WebFramework/tree/master/web \"web\") |  |  |\n",
      "| [.gitattributes](/ScavixSoftware/WebFramework/blob/master/.gitattributes \".gitattributes\") | | [.gitattributes](/ScavixSoftware/WebFramework/blob/master/.gitattributes \".gitattributes\") |  |  |\n",
      "| [.gitignore](/ScavixSoftware/WebFramework/blob/master/.gitignore \".gitignore\") | | [.gitignore](/ScavixSoftware/WebFramework/blob/master/.gitignore \".gitignore\") |  |  |\n",
      "| [.gitmodules](/ScavixSoftware/WebFramework/blob/master/.gitmodules \".gitmodules\") | | [.gitmodules](/ScavixSoftware/WebFramework/blob/master/.gitmodules \".gitmodules\") |  |  |\n",
      "| [COPYING.LGPL](/ScavixSoftware/WebFramework/blob/master/COPYING.LGPL \"COPYING.LGPL\") | | [COPYING.LGPL](/ScavixSoftware/WebFramework/blob/master/COPYING.LGPL \"COPYING.LGPL\") |  |  |\n",
      "| [COPYING.MIT](/ScavixSoftware/WebFramework/blob/master/COPYING.MIT \"COPYING.MIT\") | | [COPYING.MIT](/ScavixSoftware/WebFramework/blob/master/COPYING.MIT \"COPYING.MIT\") |  |  |\n",
      "| [COPYRIGHT](/ScavixSoftware/WebFramework/blob/master/COPYRIGHT \"COPYRIGHT\") | | [COPYRIGHT](/ScavixSoftware/WebFramework/blob/master/COPYRIGHT \"COPYRIGHT\") |  |  |\n",
      "| [README.md](/ScavixSoftware/WebFramework/blob/master/README.md \"README.md\") | | [README.md](/ScavixSoftware/WebFramework/blob/master/README.md \"README.md\") |  |  |\n",
      "| [WebFramework.code-workspace](/ScavixSoftware/WebFramework/blob/master/WebFramework.code-workspace \"WebFramework.code-workspace\") | | [WebFramework.code-workspace](/ScavixSoftware/WebFramework/blob/master/WebFramework.code-workspace \"WebFramework.code-workspace\") |  |  |\n",
      "| View all files | | |\n",
      "\n",
      "## Latest commit\n",
      "\n",
      "## History\n",
      "\n",
      "## Repository files navigation\n",
      "\n",
      "# Scavix Software Web Development Framework\n",
      "\n",
      "The Scavix Software Web Development Framework has been build to assist developers in creating rich web applications.  \n",
      "It's the foundation of all functionalities we need in our daily work so that we don't need to reinvent the wheel for each new customer project. It provides you with everything you need from the database access layer to the UI development so that you can focus on the business logic of the application without loosing yourself in the thousands of baby-steps that need to be implemented for every project.  \n",
      "To give you a quick start, here's a nice article over at codeproject describing how to use this framework:\n",
      "[Ultra-Rapid PHP Application Development](http://www.codeproject.com/Articles/553018/Ultra-Rapid-PHP-Application-Development)\n",
      "\n",
      "## Folders\n",
      "\n",
      "`/netbeans/` Contains a NetBeans project for the contents of the /web/ folder  \n",
      "`/tools/` Currently only contains PhpTracer which is a tool to monitor logfiles, written in C#  \n",
      "`/web/documentor/` An app, we use this to create the [API reference documentation](https://github.com/ScavixSoftware/WebFramework/wiki)  \n",
      "`/web/sample_blog/` A sample blog application using the WebFramework  \n",
      "`/web/sample_shop/` A sample shop application using the WebFramework  \n",
      "`/web/sample_chart/` A sample on how to show charts in your application based on the WebFramework  \n",
      "`/web/system/` The framework code (as submodule)\n",
      "\n",
      "`/netbeans/`\n",
      "`/tools/`\n",
      "`/web/documentor/`\n",
      "`/web/sample_blog/`\n",
      "`/web/sample_shop/`\n",
      "`/web/sample_chart/`\n",
      "`/web/system/`\n",
      "\n",
      "## Installation\n",
      "\n",
      "Just clone the scavix-wdf code from <https://github.com/ScavixSoftware/scavix-wdf> or directly add it as submodule to your git repo.\n",
      "\n",
      "## Resources\n",
      "\n",
      "[API reference documentation](https://github.com/ScavixSoftware/WebFramework/wiki)  \n",
      "Basic usage: [Ultra-Rapid PHP Application Development](http://www.codeproject.com/Articles/553018/Ultra-Rapid-PHP-Application-Development)  \n",
      "A real world sample: [Easily implementing your own online shop](http://www.codeproject.com/Articles/586703/Easily-implementing-your-own-online-shop)  \n",
      "Upgrading projects to PHP namespaces: [An easy solution](http://www.codeproject.com/Articles/643091/Upgrading-projects-to-PHP-namespaces-An-easy-solut)\n",
      "\n",
      "## About\n",
      "\n",
      "Scavix Software Web Development Framework\n",
      "\n",
      "### Resources\n",
      "\n",
      "### License\n",
      "\n",
      "### Licenses found\n",
      "\n",
      "### Uh oh!\n",
      "\n",
      "There was an error while loading. Please reload this page.\n",
      "\n",
      "There was an error while loading. Please reload this page.\n",
      "\n",
      "### Stars\n",
      "\n",
      "### Watchers\n",
      "\n",
      "### Forks\n",
      "\n",
      "## [Releases 8](/ScavixSoftware/WebFramework/releases)\n",
      "\n",
      "## [Packages 0](/orgs/ScavixSoftware/packages?repo_name=WebFramework)\n",
      "\n",
      "### Uh oh!\n",
      "\n",
      "There was an error while loading. Please reload this page.\n",
      "\n",
      "There was an error while loading. Please reload this page.\n",
      "\n",
      "## [Contributors 4](/ScavixSoftware/WebFramework/graphs/contributors)\n",
      "\n",
      "### Uh oh!\n",
      "\n",
      "There was an error while loading. Please reload this page.\n",
      "\n",
      "There was an error while loading. Please reload this page.\n",
      "\n",
      "## Languages\n",
      "\n",
      "## Footer\n",
      "\n",
      "### Footer navigation\n"
     ]
    }
   ],
   "source": [
    "print(df.iloc[i]['raw_markdown'])"
   ]
  },
  {
   "cell_type": "code",
   "execution_count": 52,
   "id": "2d77fb9b",
   "metadata": {},
   "outputs": [
    {
     "name": "stdout",
     "output_type": "stream",
     "text": [
      "We read every piece of feedback, and take your input very seriously.\n",
      "To see all available qualifiers, see our documentation.\n",
      "Scavix Software Web Development Framework\n",
      "There was an error while loading. Please reload this page.\n",
      "There was an error while loading. Please reload this page.\n",
      "The Scavix Software Web Development Framework has been build to assist developers in creating rich web applications.\n",
      "It's the foundation of all functionalities we need in our daily work so that we don't need to reinvent the wheel for each new customer project. It provides you with everything you need from the database access layer to the UI development so that you can focus on the business logic of the application without loosing yourself in the thousands of baby-steps that need to be implemented for every project.\n",
      "To give you a quick start, here's a nice article over at codeproject describing how to use this framework:\n",
      "Ultra-Rapid PHP Application Development\n",
      "/netbeans/\n",
      "Contains a NetBeans project for the contents of the /web/ folder\n",
      "/tools/\n",
      "Currently only contains PhpTracer which is a tool to monitor logfiles, written in C#\n",
      "/web/documentor/\n",
      "An app, we use this to create the API reference documentation\n",
      "/web/sample_blog/\n",
      "A sample blog application using the WebFramework\n",
      "/web/sample_shop/\n",
      "A sample shop application using the WebFramework\n",
      "/web/sample_chart/\n",
      "A sample on how to show charts in your application based on the WebFramework\n",
      "/web/system/\n",
      "The framework code (as submodule)\n",
      "/netbeans/\n",
      "/tools/\n",
      "/web/documentor/\n",
      "/web/sample_blog/\n",
      "/web/sample_shop/\n",
      "/web/sample_chart/\n",
      "/web/system/\n",
      "Just clone the scavix-wdf code from https://github.com/ScavixSoftware/scavix-wdf or directly add it as submodule to your git repo.\n",
      "API reference documentation\n",
      "Basic usage: Ultra-Rapid PHP Application Development\n",
      "A real world sample: Easily implementing your own online shop\n",
      "Upgrading projects to PHP namespaces: An easy solution\n",
      "Scavix Software Web Development Framework\n",
      "There was an error while loading. Please reload this page.\n",
      "There was an error while loading. Please reload this page.\n",
      "There was an error while loading. Please reload this page.\n",
      "There was an error while loading. Please reload this page.\n",
      "There was an error while loading. Please reload this page.\n",
      "There was an error while loading. Please reload this page.\n"
     ]
    }
   ],
   "source": [
    "print(df.iloc[i]['cleaned_markdown'])"
   ]
  }
 ],
 "metadata": {
  "kernelspec": {
   "display_name": ".venv",
   "language": "python",
   "name": "python3"
  },
  "language_info": {
   "codemirror_mode": {
    "name": "ipython",
    "version": 3
   },
   "file_extension": ".py",
   "mimetype": "text/x-python",
   "name": "python",
   "nbconvert_exporter": "python",
   "pygments_lexer": "ipython3",
   "version": "3.12.1"
  }
 },
 "nbformat": 4,
 "nbformat_minor": 5
}
