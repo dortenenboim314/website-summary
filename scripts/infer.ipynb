{
 "cells": [
  {
   "cell_type": "code",
   "execution_count": 17,
   "id": "65039b5f",
   "metadata": {},
   "outputs": [],
   "source": [
    "import sys\n",
    "sys.path.append('..')"
   ]
  },
  {
   "cell_type": "code",
   "execution_count": 18,
   "id": "0f637b84",
   "metadata": {},
   "outputs": [],
   "source": [
    "import pandas as pd\n",
    "from tqdm import tqdm\n",
    "import time\n",
    "\n",
    "from summarizers.light import SumyTextRankSummarizer, FastSummarizer "
   ]
  },
  {
   "cell_type": "code",
   "execution_count": 19,
   "id": "cbdd6020",
   "metadata": {},
   "outputs": [
    {
     "name": "stdout",
     "output_type": "stream",
     "text": [
      "(198, 10)\n"
     ]
    }
   ],
   "source": [
    "df = pd.read_csv('../dataset/unified_dataset_labeled.csv')\n",
    "print(df.shape)"
   ]
  },
  {
   "cell_type": "code",
   "execution_count": 22,
   "id": "28c6a286",
   "metadata": {},
   "outputs": [
    {
     "name": "stdout",
     "output_type": "stream",
     "text": [
      "sumy v2\n",
      "sumy v2\n",
      "sumy v2\n",
      "fast summarizer v3\n"
     ]
    }
   ],
   "source": [
    "random_summarizer = SumyTextRankSummarizer('random')\n",
    "lsa_summarizer = SumyTextRankSummarizer('lsa')\n",
    "textrank_summarizer = SumyTextRankSummarizer('text_rank')\n",
    "fast_summarizer = FastSummarizer()\n",
    "\n",
    "\n",
    "summarizers = {\n",
    "    'random': random_summarizer,\n",
    "    'lsa': lsa_summarizer,\n",
    "    'text_rank': textrank_summarizer,\n",
    "    'fast': fast_summarizer\n",
    "}\n",
    "\n",
    "# kwargs to pass to the for each summarizer\n",
    "params = {\n",
    "}\n"
   ]
  },
  {
   "cell_type": "code",
   "execution_count": 23,
   "id": "2d9f217c",
   "metadata": {},
   "outputs": [
    {
     "name": "stderr",
     "output_type": "stream",
     "text": [
      "Running summarizers: 100%|██████████| 198/198 [01:03<00:00,  3.13it/s]\n"
     ]
    }
   ],
   "source": [
    "# Initialize columns\n",
    "for name in summarizers:\n",
    "    df[f\"summary_{name}\"] = None\n",
    "\n",
    "# Generate\n",
    "for idx, row in tqdm(df.iterrows(), total=len(df), desc=\"Running summarizers\"):\n",
    "    text, lang = row[\"cleaned_markdown\"], row[\"language\"]\n",
    "    for name, summarizer in summarizers.items():\n",
    "        kw = params.get(name, {})\n",
    "        \n",
    "        # calculate latency\n",
    "        start = time.perf_counter()\n",
    "        summary = summarizer.summarize(text, lang, **kw)\n",
    "        latency = time.perf_counter() - start\n",
    "        \n",
    "        df.at[idx, f\"summary_{name}\"] = summary\n",
    "        df.at[idx, f\"summary_{name}_latency\"] = latency"
   ]
  },
  {
   "cell_type": "code",
   "execution_count": 24,
   "id": "6617c0c1",
   "metadata": {},
   "outputs": [],
   "source": [
    "# Save\n",
    "df.to_csv(\"../dataset/results.csv\", index=False)"
   ]
  },
  {
   "cell_type": "code",
   "execution_count": 25,
   "id": "f33d6bf6",
   "metadata": {},
   "outputs": [
    {
     "name": "stdout",
     "output_type": "stream",
     "text": [
      "random - Mean Latency: 8.2367ms, Std: 45.6223ms, Min: 1.0622ms, Max: 604.6899ms\n",
      "lsa - Mean Latency: 44.0192ms, Std: 56.0383ms, Min: 1.2434ms, Max: 536.9721ms\n",
      "text_rank - Mean Latency: 31.0331ms, Std: 49.5466ms, Min: 1.2042ms, Max: 546.4159ms\n",
      "fast - Mean Latency: 232.0790ms, Std: 208.0558ms, Min: 0.4636ms, Max: 1583.8066ms\n"
     ]
    }
   ],
   "source": [
    "# show latency statistics\n",
    "for name in summarizers:\n",
    "    latencies = df[f\"summary_{name}_latency\"].dropna()\n",
    "    # convert to ms\n",
    "    latencies = latencies * 1000  # convert to milliseconds\n",
    "    print(f\"{name} - Mean Latency: {latencies.mean():.4f}ms, Std: {latencies.std():.4f}ms, Min: {latencies.min():.4f}ms, Max: {latencies.max():.4f}ms\")"
   ]
  }
 ],
 "metadata": {
  "kernelspec": {
   "display_name": ".venv",
   "language": "python",
   "name": "python3"
  },
  "language_info": {
   "codemirror_mode": {
    "name": "ipython",
    "version": 3
   },
   "file_extension": ".py",
   "mimetype": "text/x-python",
   "name": "python",
   "nbconvert_exporter": "python",
   "pygments_lexer": "ipython3",
   "version": "3.12.1"
  }
 },
 "nbformat": 4,
 "nbformat_minor": 5
}
