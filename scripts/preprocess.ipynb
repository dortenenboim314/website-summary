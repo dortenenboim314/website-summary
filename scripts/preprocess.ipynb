{
 "cells": [
  {
   "cell_type": "code",
   "execution_count": 17,
   "id": "09ec096e",
   "metadata": {},
   "outputs": [],
   "source": [
    "import pandas as pd\n",
    "import trafilatura\n",
    "import markdown"
   ]
  },
  {
   "cell_type": "code",
   "execution_count": 21,
   "id": "b28c9d38",
   "metadata": {},
   "outputs": [
    {
     "name": "stdout",
     "output_type": "stream",
     "text": [
      "(340, 7)\n"
     ]
    }
   ],
   "source": [
    "path = r\"C:\\repos\\search-summaries\\dataset\\unified_dataset.csv\"\n",
    "\n",
    "df = pd.read_csv(path)\n",
    "df.columns\n",
    "print(df.shape)"
   ]
  },
  {
   "cell_type": "code",
   "execution_count": 28,
   "id": "7cd28ea4",
   "metadata": {},
   "outputs": [],
   "source": [
    "def clean_markdown(raw_markdown):\n",
    "    html = markdown.markdown(raw_markdown, extensions=['extra'])\n",
    "    cleaned = trafilatura.extract(\n",
    "        html,\n",
    "        include_comments=False,\n",
    "        include_tables=False,\n",
    "        deduplicate=True,\n",
    "        favor_precision=True\n",
    "    )\n",
    "    return cleaned"
   ]
  },
  {
   "cell_type": "code",
   "execution_count": 26,
   "id": "f58fa794",
   "metadata": {},
   "outputs": [
    {
     "name": "stdout",
     "output_type": "stream",
     "text": [
      "Average length of raw_markdown: 71468.2088235294\n",
      "number of rows with length < 6KB: 71\n"
     ]
    },
    {
     "data": {
      "image/png": "[encoded data removed]",
      "text/plain": [
       "<Figure size 640x480 with 1 Axes>"
      ]
     },
     "metadata": {},
     "output_type": "display_data"
    }
   ],
   "source": [
    "# hist of length column of raw_markdown\n",
    "df['length'].hist(bins=100)\n",
    "\n",
    "# print average length of raw_markdown\n",
    "print(\"Average length of raw_markdown:\", df['length'].mean())"
   ]
  },
  {
   "cell_type": "code",
   "execution_count": 29,
   "id": "54481baa",
   "metadata": {},
   "outputs": [],
   "source": [
    "# create a new column with cleaned markdown\n",
    "df['cleaned_markdown'] = df['raw_markdown'].apply(clean_markdown)"
   ]
  },
  {
   "cell_type": "code",
   "execution_count": 39,
   "id": "e04d8424",
   "metadata": {},
   "outputs": [
    {
     "name": "stdout",
     "output_type": "stream",
     "text": [
      "Number of rows with cleaned_markdown as None: 0\n",
      "Average length of cleaned_markdown: 19402.373088685013\n",
      "number of rows with length < 8K: 96\n",
      "number of rows with cleaned_markdown length < 8K: 198\n",
      "number of rows after filtering: 198\n",
      "average length of cleaned_markdown after filtering: 3567.848484848485\n"
     ]
    }
   ],
   "source": [
    "# count rows where cleaned_markdown is None\n",
    "count_none = df['cleaned_markdown'].isnull().sum()\n",
    "print(\"Number of rows with cleaned_markdown as None:\", count_none)\n",
    "\n",
    "# drop rows where cleaned_markdown is None\n",
    "df = df.dropna(subset=['cleaned_markdown'])\n",
    "\n",
    "# print statistics of cleaned markdown length\n",
    "print(\"Average length of cleaned_markdown:\", df['cleaned_markdown'].apply(len).mean())\n",
    "\n",
    "\n",
    "print(f\"number of rows with length < 8K: {df[df['length'] < 8000].shape[0]}\")\n",
    "print(f\"number of rows with cleaned_markdown length < 8K: {df[df['cleaned_markdown'].apply(len) < 8000].shape[0]}\")\n",
    "\n",
    "# filter rows with cleaned_markdown length > 8K\n",
    "df_filtered = df[df['cleaned_markdown'].apply(len) < 8000]\n",
    "\n",
    "print(f\"number of rows after filtering: {df_filtered.shape[0]}\")\n",
    "print(f\"average length of cleaned_markdown after filtering: {df_filtered['cleaned_markdown'].apply(len).mean()}\")\n"
   ]
  },
  {
   "cell_type": "code",
   "execution_count": 38,
   "id": "eb9fc38f",
   "metadata": {},
   "outputs": [],
   "source": [
    "# save the cleaned dataframe to a new csv file\n",
    "output_path = r\"C:\\repos\\search-summaries\\dataset\\cleaned_unified_dataset.csv\"\n",
    "df_filtered.to_csv(output_path, index=False)\n"
   ]
  }
 ],
 "metadata": {
  "kernelspec": {
   "display_name": ".venv",
   "language": "python",
   "name": "python3"
  },
  "language_info": {
   "codemirror_mode": {
    "name": "ipython",
    "version": 3
   },
   "file_extension": ".py",
   "mimetype": "text/x-python",
   "name": "python",
   "nbconvert_exporter": "python",
   "pygments_lexer": "ipython3",
   "version": "3.12.1"
  }
 },
 "nbformat": 4,
 "nbformat_minor": 5
}
